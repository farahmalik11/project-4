{
  "nbformat": 4,
  "nbformat_minor": 0,
  "metadata": {
    "colab": {
      "provenance": [],
      "gpuType": "T4"
    },
    "kernelspec": {
      "name": "python3",
      "display_name": "Python 3"
    },
    "language_info": {
      "name": "python"
    },
    "accelerator": "GPU"
  },
  "cells": [
    {
      "cell_type": "code",
      "source": [
        "# Imports\n",
        "# Cite Lesson 804 - Convolutional Neural Nets\n",
        "import numpy as np\n",
        "import pandas as pd\n",
        "import matplotlib.pyplot as plt\n",
        "import pickle\n",
        "\n",
        "#Model Creation\n",
        "from tensorflow.keras.models import Sequential\n",
        "from tensorflow.keras.layers import Dense, Dropout, Conv2D, MaxPooling2D, Flatten\n",
        "from tensorflow.keras.preprocessing.image import ImageDataGenerator\n",
        "from tensorflow.keras.utils import image_dataset_from_directory\n",
        "import tensorflow as tf\n",
        "\n",
        "# Image Pre-processing and Augmentation\n",
        "from tensorflow.keras.layers import Resizing, Rescaling, CenterCrop\n",
        "from tensorflow.keras.layers import RandomCrop, RandomFlip, RandomTranslation, RandomRotation, RandomZoom, RandomContrast\n",
        "\n",
        "#Access Image files from Google Drive\n",
        "import os\n",
        "from PIL import Image\n",
        "import numpy as np\n",
        "\n",
        "from google.colab import drive\n",
        "drive.mount('/content/drive')"
      ],
      "metadata": {
        "id": "CM72ad_ROAZf"
      },
      "execution_count": null,
      "outputs": []
    },
    {
      "cell_type": "code",
      "source": [
        "# Create X, y data from google drive folders\n",
        "X_train = []\n",
        "y_train = []\n",
        "\n",
        "for photo in os.listdir('/content/drive/MyDrive/group_project_data/Hack-a-thon/hotdog-nothotdog/train/hotdog/'):\n",
        "    if photo.endswith(\".jpg\"):\n",
        "        image_path = os.path.join('/content/drive/MyDrive/group_project_data/Hack-a-thon/hotdog-nothotdog/train/hotdog/', photo)\n",
        "        image = Image.open(image_path)\n",
        "        image = image.resize((300, 300))\n",
        "        image = np.array(image)\n",
        "        X_train.append(image)\n",
        "        y_train.append(1)\n",
        "\n",
        "for photo in os.listdir('/content/drive/MyDrive/group_project_data/Hack-a-thon/hotdog-nothotdog/train/nothotdog/'):\n",
        "    if photo.endswith(\".jpg\"):\n",
        "        image_path = os.path.join('/content/drive/MyDrive/group_project_data/Hack-a-thon/hotdog-nothotdog/train/nothotdog/', photo)\n",
        "        image = Image.open(image_path)\n",
        "        image = image.resize((300, 300))\n",
        "        image = np.array(image)\n",
        "        X_train.append(image)\n",
        "        y_train.append(0)\n",
        "\n",
        "X_train = np.array(X_train)\n",
        "y_train = np.array(y_train)\n",
        "\n",
        "X_train = np.array(X_train)\n",
        "y_train = np.array(y_train)\n",
        "\n",
        "X_test = []\n",
        "y_test = []\n",
        "\n",
        "#building X and y from both hotdog and nothotdog folders\n",
        "for photo in os.listdir('/content/drive/MyDrive/group_project_data/Hack-a-thon/hotdog-nothotdog/test/hotdog/'):\n",
        "    if photo.endswith(\".jpg\"):\n",
        "        image_path = os.path.join('/content/drive/MyDrive/group_project_data/Hack-a-thon/hotdog-nothotdog/test/hotdog/', photo)\n",
        "        image = Image.open(image_path)\n",
        "        image = image.resize((300, 300))\n",
        "        image = np.array(image)\n",
        "        X_test.append(image)\n",
        "        y_test.append(1)\n",
        "\n",
        "for photo in os.listdir('/content/drive/MyDrive/group_project_data/Hack-a-thon/hotdog-nothotdog/test/nothotdog/'):\n",
        "    if photo.endswith(\".jpg\"):\n",
        "        image_path = os.path.join('/content/drive/MyDrive/group_project_data/Hack-a-thon/hotdog-nothotdog/test/nothotdog/', photo)\n",
        "        image = Image.open(image_path)\n",
        "        image = image.resize((300, 300))\n",
        "        image = np.array(image)\n",
        "        X_test.append(image)\n",
        "        y_test.append(0)\n",
        "\n",
        "X_test = np.array(X_test)\n",
        "y_test = np.array(y_test)"
      ],
      "metadata": {
        "id": "TkGRu3ebXzOK"
      },
      "execution_count": null,
      "outputs": []
    },
    {
      "cell_type": "code",
      "execution_count": null,
      "metadata": {
        "id": "wlHHrp_9Ld86",
        "colab": {
          "base_uri": "https://localhost:8080/"
        },
        "outputId": "ce8b0e9c-d9a7-4985-912d-89ac272089f6"
      },
      "outputs": [
        {
          "output_type": "stream",
          "name": "stdout",
          "text": [
            "Epoch 1/10\n",
            "24/24 [==============================] - 13s 297ms/step - loss: 2.7293 - acc: 0.4990 - val_loss: 0.6931 - val_acc: 0.5000\n",
            "Epoch 2/10\n",
            "24/24 [==============================] - 7s 274ms/step - loss: 0.6820 - acc: 0.6017 - val_loss: 0.6773 - val_acc: 0.6009\n",
            "Epoch 3/10\n",
            "24/24 [==============================] - 7s 272ms/step - loss: 0.6380 - acc: 0.6500 - val_loss: 0.6504 - val_acc: 0.6460\n",
            "Epoch 4/10\n",
            "24/24 [==============================] - 7s 283ms/step - loss: 0.5989 - acc: 0.6873 - val_loss: 0.6116 - val_acc: 0.6801\n",
            "Epoch 5/10\n",
            "24/24 [==============================] - 7s 279ms/step - loss: 0.5795 - acc: 0.6883 - val_loss: 0.6215 - val_acc: 0.6599\n",
            "Epoch 6/10\n",
            "24/24 [==============================] - 7s 283ms/step - loss: 0.5735 - acc: 0.6960 - val_loss: 0.5902 - val_acc: 0.7003\n",
            "Epoch 7/10\n",
            "24/24 [==============================] - 7s 277ms/step - loss: 0.5537 - acc: 0.7210 - val_loss: 0.5791 - val_acc: 0.7158\n",
            "Epoch 8/10\n",
            "24/24 [==============================] - 7s 286ms/step - loss: 0.5319 - acc: 0.7330 - val_loss: 0.5910 - val_acc: 0.6957\n",
            "Epoch 9/10\n",
            "24/24 [==============================] - 7s 284ms/step - loss: 0.5173 - acc: 0.7543 - val_loss: 0.5833 - val_acc: 0.7096\n",
            "Epoch 10/10\n",
            "24/24 [==============================] - 7s 285ms/step - loss: 0.4944 - acc: 0.7577 - val_loss: 0.5608 - val_acc: 0.7391\n"
          ]
        }
      ],
      "source": [
        "# Keras Preprocessing\n",
        "img_size = (300, 300)\n",
        "#resize all images to 300x3-- and scale images from 255 scale to 0-1 scale\n",
        "resize_and_rescale = Sequential([\n",
        "   Resizing(img_size, img_size),\n",
        "   Rescaling(1.0 / 255)\n",
        "])\n",
        "\n",
        "#Optional data augmentation layer to randomly flip, rotate and zoom.\n",
        "data_augmentation = Sequential(\n",
        "   [\n",
        "        RandomFlip(mode='horizontal_and_vertical', seed = 42),\n",
        "        RandomRotation(0.2),\n",
        "        RandomZoom(0.1)\n",
        "    ]\n",
        ")\n",
        "\n",
        "# 4 Layers with 16, 32, 63 Convolutional nodes.  Dropouts interspersed\n",
        "model = Sequential([\n",
        "    Rescaling(1./255, input_shape=(300, 300, 3)),\n",
        "    Conv2D(16, 3, activation='relu'),\n",
        "    MaxPooling2D(2),\n",
        "    Dropout(0.1),\n",
        "    Conv2D(32, 3, activation='relu'),\n",
        "    MaxPooling2D(2),\n",
        "    Dropout(0.3),\n",
        "    Conv2D(64, 3, activation='relu'),\n",
        "    MaxPooling2D(2),\n",
        "    Dropout(0.5),\n",
        "    Flatten(),\n",
        "    Dense(512, activation='relu'),\n",
        "    Dense(1, activation='sigmoid')\n",
        "])\n",
        "\n",
        "model.compile(optimizer ='adam',\n",
        "              loss='bce',\n",
        "              metrics=['acc'])\n",
        "\n",
        "history = model.fit(\n",
        "    X_train, y_train,\n",
        "    validation_data=(X_test, y_test),\n",
        "    batch_size=128,\n",
        "    epochs=10\n",
        ")"
      ]
    },
    {
      "cell_type": "code",
      "source": [
        "plt.plot(history.history['acc'], label='Training Accuracy')\n",
        "plt.plot(history.history['val_acc'], label='Validation Accuracy')\n",
        "plt.xlabel('Epochs')\n",
        "plt.ylabel('Accuracy')\n",
        "plt.legend()\n",
        "plt.savefig('/content/drive/MyDrive/group_project_data/Hack-a-thon/')"
      ],
      "metadata": {
        "id": "xDSywanulybz",
        "colab": {
          "base_uri": "https://localhost:8080/",
          "height": 449
        },
        "outputId": "72ece746-a019-4d80-fcc7-2b299522a739"
      },
      "execution_count": null,
      "outputs": [
        {
          "output_type": "display_data",
          "data": {
            "text/plain": [
              "<Figure size 640x480 with 1 Axes>"
            ],
            "image/png": "[encoded data removed]"
          },
          "metadata": {}
        }
      ]
    },
    {
      "cell_type": "code",
      "source": [
        "#Write the pickled value to disk\n",
        "with open('./model.pkl', 'wb') as pickle_out:\n",
        "    pickle_out = pickle.dump(model, pickle_out)"
      ],
      "metadata": {
        "id": "zuQj9bq5PL5a"
      },
      "execution_count": null,
      "outputs": []
    },
    {
      "cell_type": "code",
      "source": [
        "#Open the pickled value\n",
        "with open('./model.pkl', 'rb') as pickle_in:\n",
        "    model = pickle.load(pickle_in)\n",
        "\n",
        "model"
      ],
      "metadata": {
        "id": "17N0K_PiYxq3",
        "colab": {
          "base_uri": "https://localhost:8080/"
        },
        "outputId": "05dd8be2-91e2-4e8c-dae9-6243404ac43f"
      },
      "execution_count": null,
      "outputs": [
        {
          "output_type": "execute_result",
          "data": {
            "text/plain": [
              "<keras.engine.sequential.Sequential at 0x7fac2b1716c0>"
            ]
          },
          "metadata": {},
          "execution_count": 48
        }
      ]
    }
  ]
}